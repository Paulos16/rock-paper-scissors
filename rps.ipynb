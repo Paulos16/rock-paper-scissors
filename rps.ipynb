{
 "cells": [
  {
   "cell_type": "code",
   "execution_count": 17,
   "metadata": {},
   "outputs": [],
   "source": [
    "import numpy as np\n",
    "#from numpy.random import seed\n",
    "#from numpy.random import randn\n",
    "\n",
    "from matplotlib import pyplot as plt"
   ]
  },
  {
   "cell_type": "code",
   "execution_count": 18,
   "metadata": {},
   "outputs": [],
   "source": [
    "class TextFormatting:\n",
    "    BOLD = '\\033[1m'\n",
    "    UNDERLINE = '\\033[4m'\n",
    "    END = '\\033[0m'"
   ]
  },
  {
   "cell_type": "code",
   "execution_count": 19,
   "metadata": {},
   "outputs": [],
   "source": [
    "def getProbabilityMatrix(m, sum_m):\n",
    "    p = np.zeros((3, 3))\n",
    "    for i in range(len(p)):\n",
    "        for j in range(len(p[i])):\n",
    "            p[i][j] += m[i][j]\n",
    "            p[i][j] /= sum_m[i]\n",
    "    \n",
    "    return p"
   ]
  },
  {
   "cell_type": "code",
   "execution_count": 20,
   "metadata": {},
   "outputs": [],
   "source": [
    "def showGameStats():\n",
    "    print('Stats...')\n",
    "    print('p_trans:')\n",
    "    print(p_trans)\n",
    "    print('p_trans_sums:')\n",
    "    print(p_trans_sums)\n",
    "    print('n: {}, payoff: {}\\n'.format(len(payoff), payoff[len(payoff) - 1]))\n",
    "    \n",
    "    plt.plot(payoff)\n",
    "    plt.ylabel('Payoff')\n",
    "    plt.xlabel('Round')\n",
    "    plt.show()"
   ]
  },
  {
   "cell_type": "code",
   "execution_count": 21,
   "metadata": {},
   "outputs": [
    {
     "name": "stdout",
     "output_type": "stream",
     "text": [
      "\u001b[1m\"Rock - Paper - Scissors\"\u001b[0m.\n",
      "A game based on a machine learning algorithm\n",
      "that implements a statistical model called\n",
      "\u001b[4mHidden Markov Model\u001b[0m (HMM).\n",
      "To draw \u001b[4mrock\u001b[0m, press 'r'.\n",
      "To draw \u001b[4mpaper\u001b[0m, press 'p'.\n",
      "To draw \u001b[4mscissors\u001b[0m, press 's'.\n",
      "To \u001b[4mend the game\u001b[0m, press 'q'.\n",
      "To show \u001b[4mcurrent game status\u001b[0m, press any other key.\n",
      "\n"
     ]
    }
   ],
   "source": [
    "print(TextFormatting.BOLD + '\"Rock - Paper - Scissors\"' + TextFormatting.END + '.')\n",
    "print('A game based on a machine learning algorithm')\n",
    "print('that implements a statistical model called')\n",
    "print(TextFormatting.UNDERLINE + 'Hidden Markov Model' + TextFormatting.END + ' (HMM).')\n",
    "print('To draw ' + TextFormatting.UNDERLINE + 'rock' + TextFormatting.END + ', press \\'r\\'.')\n",
    "print('To draw ' + TextFormatting.UNDERLINE + 'paper' + TextFormatting.END + ', press \\'p\\'.')\n",
    "print('To draw ' + TextFormatting.UNDERLINE + 'scissors' + TextFormatting.END + ', press \\'s\\'.')\n",
    "print('To ' + TextFormatting.UNDERLINE + 'end the game' + TextFormatting.END + ', press \\'q\\'.')\n",
    "print('To show ' + TextFormatting.UNDERLINE + 'current game status' + TextFormatting.END + ', press any other key.\\n')"
   ]
  },
  {
   "cell_type": "code",
   "execution_count": 57,
   "metadata": {},
   "outputs": [],
   "source": [
    "# setup\n",
    "states = ['Rock', 'Paper', 'Scissors']\n",
    "p_start = np.array(\n",
    "    [np.random.randn(),\n",
    "     np.random.randn(),\n",
    "     np.random.randn()])\n",
    "\n",
    "while p_start[0] <= 0 or p_start[1] <= 0 or p_start[2] <= 0:\n",
    "    p_start = np.array([np.random.randn(), np.random.randn(), np.random.randn()])\n",
    "\n",
    "sum_start = np.sum(p_start)\n",
    "p_start[0] /= sum_start\n",
    "p_start[1] /= sum_start\n",
    "p_start[2] /= sum_start\n",
    "\n",
    "p_trans = np.ones((3, 3))\n",
    "p_trans_sums = np.array([3., 3., 3.])"
   ]
  },
  {
   "cell_type": "code",
   "execution_count": 58,
   "metadata": {},
   "outputs": [],
   "source": [
    "payoff = [0]\n",
    "state = np.random.choice(states, replace = True, p = p_start)\n",
    "previousInput = 'q';"
   ]
  },
  {
   "cell_type": "code",
   "execution_count": 59,
   "metadata": {},
   "outputs": [
    {
     "name": "stdout",
     "output_type": "stream",
     "text": [
      "Press a key to play: r\n",
      "User played \u001b[1mRock!\u001b[0m\n",
      "Opponent played \u001b[1mPaper!\u001b[0m\n",
      "Opponent won!\n",
      "Your turn: r\n",
      "User played \u001b[1mRock!\u001b[0m\n",
      "Opponent played \u001b[1mScissors!\u001b[0m\n",
      "User won!\n",
      "Your turn: r\n",
      "User played \u001b[1mRock!\u001b[0m\n",
      "Opponent played \u001b[1mPaper!\u001b[0m\n",
      "Opponent won!\n",
      "Your turn: r\n",
      "User played \u001b[1mRock!\u001b[0m\n",
      "Opponent played \u001b[1mScissors!\u001b[0m\n",
      "User won!\n",
      "Your turn: r\n",
      "User played \u001b[1mRock!\u001b[0m\n",
      "Opponent played \u001b[1mPaper!\u001b[0m\n",
      "Opponent won!\n",
      "Your turn: r\n",
      "User played \u001b[1mRock!\u001b[0m\n",
      "Opponent played \u001b[1mPaper!\u001b[0m\n",
      "Opponent won!\n",
      "Your turn: r\n",
      "User played \u001b[1mRock!\u001b[0m\n",
      "Opponent played \u001b[1mScissors!\u001b[0m\n",
      "User won!\n",
      "Your turn: r\n",
      "User played \u001b[1mRock!\u001b[0m\n",
      "Opponent played \u001b[1mPaper!\u001b[0m\n",
      "Opponent won!\n",
      "Your turn: r\n",
      "User played \u001b[1mRock!\u001b[0m\n",
      "Opponent played \u001b[1mRock!\u001b[0m\n",
      "It's a tie!\n",
      "Your turn: r\n",
      "User played \u001b[1mRock!\u001b[0m\n",
      "Opponent played \u001b[1mPaper!\u001b[0m\n",
      "Opponent won!\n",
      "Your turn: r\n",
      "User played \u001b[1mRock!\u001b[0m\n",
      "Opponent played \u001b[1mRock!\u001b[0m\n",
      "It's a tie!\n",
      "Your turn: r\n",
      "User played \u001b[1mRock!\u001b[0m\n",
      "Opponent played \u001b[1mPaper!\u001b[0m\n",
      "Opponent won!\n",
      "Your turn: r\n",
      "User played \u001b[1mRock!\u001b[0m\n",
      "Opponent played \u001b[1mPaper!\u001b[0m\n",
      "Opponent won!\n",
      "Your turn: r\n",
      "User played \u001b[1mRock!\u001b[0m\n",
      "Opponent played \u001b[1mRock!\u001b[0m\n",
      "It's a tie!\n",
      "Your turn: 0\n",
      "Stats...\n",
      "p_trans:\n",
      "[[14.  1.  1.]\n",
      " [ 1.  1.  1.]\n",
      " [ 1.  1.  1.]]\n",
      "p_trans_sums:\n",
      "[16.  3.  3.]\n",
      "n: 12, payoff: -5\n",
      "\n"
     ]
    },
    {
     "data": {
      "image/png": "[encoded data removed]",
      "text/plain": [
       "<Figure size 432x288 with 1 Axes>"
      ]
     },
     "metadata": {
      "needs_background": "light"
     },
     "output_type": "display_data"
    },
    {
     "ename": "KeyboardInterrupt",
     "evalue": "",
     "output_type": "error",
     "traceback": [
      "\u001b[0;31m---------------------------------------------------------------------------\u001b[0m",
      "\u001b[0;31mKeyboardInterrupt\u001b[0m                         Traceback (most recent call last)",
      "\u001b[0;32m/opt/anaconda3/lib/python3.7/site-packages/ipykernel/kernelbase.py\u001b[0m in \u001b[0;36m_input_request\u001b[0;34m(self, prompt, ident, parent, password)\u001b[0m\n\u001b[1;32m    884\u001b[0m             \u001b[0;32mtry\u001b[0m\u001b[0;34m:\u001b[0m\u001b[0;34m\u001b[0m\u001b[0;34m\u001b[0m\u001b[0m\n\u001b[0;32m--> 885\u001b[0;31m                 \u001b[0mident\u001b[0m\u001b[0;34m,\u001b[0m \u001b[0mreply\u001b[0m \u001b[0;34m=\u001b[0m \u001b[0mself\u001b[0m\u001b[0;34m.\u001b[0m\u001b[0msession\u001b[0m\u001b[0;34m.\u001b[0m\u001b[0mrecv\u001b[0m\u001b[0;34m(\u001b[0m\u001b[0mself\u001b[0m\u001b[0;34m.\u001b[0m\u001b[0mstdin_socket\u001b[0m\u001b[0;34m,\u001b[0m \u001b[0;36m0\u001b[0m\u001b[0;34m)\u001b[0m\u001b[0;34m\u001b[0m\u001b[0;34m\u001b[0m\u001b[0m\n\u001b[0m\u001b[1;32m    886\u001b[0m             \u001b[0;32mexcept\u001b[0m \u001b[0mException\u001b[0m\u001b[0;34m:\u001b[0m\u001b[0;34m\u001b[0m\u001b[0;34m\u001b[0m\u001b[0m\n",
      "\u001b[0;32m/opt/anaconda3/lib/python3.7/site-packages/jupyter_client/session.py\u001b[0m in \u001b[0;36mrecv\u001b[0;34m(self, socket, mode, content, copy)\u001b[0m\n\u001b[1;32m    802\u001b[0m         \u001b[0;32mtry\u001b[0m\u001b[0;34m:\u001b[0m\u001b[0;34m\u001b[0m\u001b[0;34m\u001b[0m\u001b[0m\n\u001b[0;32m--> 803\u001b[0;31m             \u001b[0mmsg_list\u001b[0m \u001b[0;34m=\u001b[0m \u001b[0msocket\u001b[0m\u001b[0;34m.\u001b[0m\u001b[0mrecv_multipart\u001b[0m\u001b[0;34m(\u001b[0m\u001b[0mmode\u001b[0m\u001b[0;34m,\u001b[0m \u001b[0mcopy\u001b[0m\u001b[0;34m=\u001b[0m\u001b[0mcopy\u001b[0m\u001b[0;34m)\u001b[0m\u001b[0;34m\u001b[0m\u001b[0;34m\u001b[0m\u001b[0m\n\u001b[0m\u001b[1;32m    804\u001b[0m         \u001b[0;32mexcept\u001b[0m \u001b[0mzmq\u001b[0m\u001b[0;34m.\u001b[0m\u001b[0mZMQError\u001b[0m \u001b[0;32mas\u001b[0m \u001b[0me\u001b[0m\u001b[0;34m:\u001b[0m\u001b[0;34m\u001b[0m\u001b[0;34m\u001b[0m\u001b[0m\n",
      "\u001b[0;32m/opt/anaconda3/lib/python3.7/site-packages/zmq/sugar/socket.py\u001b[0m in \u001b[0;36mrecv_multipart\u001b[0;34m(self, flags, copy, track)\u001b[0m\n\u001b[1;32m    474\u001b[0m         \"\"\"\n\u001b[0;32m--> 475\u001b[0;31m         \u001b[0mparts\u001b[0m \u001b[0;34m=\u001b[0m \u001b[0;34m[\u001b[0m\u001b[0mself\u001b[0m\u001b[0;34m.\u001b[0m\u001b[0mrecv\u001b[0m\u001b[0;34m(\u001b[0m\u001b[0mflags\u001b[0m\u001b[0;34m,\u001b[0m \u001b[0mcopy\u001b[0m\u001b[0;34m=\u001b[0m\u001b[0mcopy\u001b[0m\u001b[0;34m,\u001b[0m \u001b[0mtrack\u001b[0m\u001b[0;34m=\u001b[0m\u001b[0mtrack\u001b[0m\u001b[0;34m)\u001b[0m\u001b[0;34m]\u001b[0m\u001b[0;34m\u001b[0m\u001b[0;34m\u001b[0m\u001b[0m\n\u001b[0m\u001b[1;32m    476\u001b[0m         \u001b[0;31m# have first part already, only loop while more to receive\u001b[0m\u001b[0;34m\u001b[0m\u001b[0;34m\u001b[0m\u001b[0;34m\u001b[0m\u001b[0m\n",
      "\u001b[0;32mzmq/backend/cython/socket.pyx\u001b[0m in \u001b[0;36mzmq.backend.cython.socket.Socket.recv\u001b[0;34m()\u001b[0m\n",
      "\u001b[0;32mzmq/backend/cython/socket.pyx\u001b[0m in \u001b[0;36mzmq.backend.cython.socket.Socket.recv\u001b[0;34m()\u001b[0m\n",
      "\u001b[0;32mzmq/backend/cython/socket.pyx\u001b[0m in \u001b[0;36mzmq.backend.cython.socket._recv_copy\u001b[0;34m()\u001b[0m\n",
      "\u001b[0;32m/opt/anaconda3/lib/python3.7/site-packages/zmq/backend/cython/checkrc.pxd\u001b[0m in \u001b[0;36mzmq.backend.cython.checkrc._check_rc\u001b[0;34m()\u001b[0m\n",
      "\u001b[0;31mKeyboardInterrupt\u001b[0m: ",
      "\nDuring handling of the above exception, another exception occurred:\n",
      "\u001b[0;31mKeyboardInterrupt\u001b[0m                         Traceback (most recent call last)",
      "\u001b[0;32m<ipython-input-59-03ebddcadf77>\u001b[0m in \u001b[0;36m<module>\u001b[0;34m\u001b[0m\n\u001b[1;32m     13\u001b[0m     \u001b[0;32melse\u001b[0m\u001b[0;34m:\u001b[0m\u001b[0;34m\u001b[0m\u001b[0;34m\u001b[0m\u001b[0m\n\u001b[1;32m     14\u001b[0m         \u001b[0mshowGameStats\u001b[0m\u001b[0;34m(\u001b[0m\u001b[0;34m)\u001b[0m\u001b[0;34m\u001b[0m\u001b[0;34m\u001b[0m\u001b[0m\n\u001b[0;32m---> 15\u001b[0;31m         \u001b[0muserInput\u001b[0m \u001b[0;34m=\u001b[0m \u001b[0minput\u001b[0m\u001b[0;34m(\u001b[0m\u001b[0;34m'Your turn: '\u001b[0m\u001b[0;34m)\u001b[0m\u001b[0;34m\u001b[0m\u001b[0;34m\u001b[0m\u001b[0m\n\u001b[0m\u001b[1;32m     16\u001b[0m         \u001b[0;32mcontinue\u001b[0m\u001b[0;34m\u001b[0m\u001b[0;34m\u001b[0m\u001b[0m\n\u001b[1;32m     17\u001b[0m \u001b[0;34m\u001b[0m\u001b[0m\n",
      "\u001b[0;32m/opt/anaconda3/lib/python3.7/site-packages/ipykernel/kernelbase.py\u001b[0m in \u001b[0;36mraw_input\u001b[0;34m(self, prompt)\u001b[0m\n\u001b[1;32m    858\u001b[0m             \u001b[0mself\u001b[0m\u001b[0;34m.\u001b[0m\u001b[0m_parent_ident\u001b[0m\u001b[0;34m,\u001b[0m\u001b[0;34m\u001b[0m\u001b[0;34m\u001b[0m\u001b[0m\n\u001b[1;32m    859\u001b[0m             \u001b[0mself\u001b[0m\u001b[0;34m.\u001b[0m\u001b[0m_parent_header\u001b[0m\u001b[0;34m,\u001b[0m\u001b[0;34m\u001b[0m\u001b[0;34m\u001b[0m\u001b[0m\n\u001b[0;32m--> 860\u001b[0;31m             \u001b[0mpassword\u001b[0m\u001b[0;34m=\u001b[0m\u001b[0;32mFalse\u001b[0m\u001b[0;34m,\u001b[0m\u001b[0;34m\u001b[0m\u001b[0;34m\u001b[0m\u001b[0m\n\u001b[0m\u001b[1;32m    861\u001b[0m         )\n\u001b[1;32m    862\u001b[0m \u001b[0;34m\u001b[0m\u001b[0m\n",
      "\u001b[0;32m/opt/anaconda3/lib/python3.7/site-packages/ipykernel/kernelbase.py\u001b[0m in \u001b[0;36m_input_request\u001b[0;34m(self, prompt, ident, parent, password)\u001b[0m\n\u001b[1;32m    888\u001b[0m             \u001b[0;32mexcept\u001b[0m \u001b[0mKeyboardInterrupt\u001b[0m\u001b[0;34m:\u001b[0m\u001b[0;34m\u001b[0m\u001b[0;34m\u001b[0m\u001b[0m\n\u001b[1;32m    889\u001b[0m                 \u001b[0;31m# re-raise KeyboardInterrupt, to truncate traceback\u001b[0m\u001b[0;34m\u001b[0m\u001b[0;34m\u001b[0m\u001b[0;34m\u001b[0m\u001b[0m\n\u001b[0;32m--> 890\u001b[0;31m                 \u001b[0;32mraise\u001b[0m \u001b[0mKeyboardInterrupt\u001b[0m\u001b[0;34m\u001b[0m\u001b[0;34m\u001b[0m\u001b[0m\n\u001b[0m\u001b[1;32m    891\u001b[0m             \u001b[0;32melse\u001b[0m\u001b[0;34m:\u001b[0m\u001b[0;34m\u001b[0m\u001b[0;34m\u001b[0m\u001b[0m\n\u001b[1;32m    892\u001b[0m                 \u001b[0;32mbreak\u001b[0m\u001b[0;34m\u001b[0m\u001b[0;34m\u001b[0m\u001b[0m\n",
      "\u001b[0;31mKeyboardInterrupt\u001b[0m: "
     ]
    }
   ],
   "source": [
    "userInput = input('Press a key to play: ')\n",
    "while userInput != 'q':\n",
    "    \n",
    "    if userInput == 'r':\n",
    "        print('User played ' + TextFormatting.BOLD + 'Rock!' + TextFormatting.END)\n",
    "    \n",
    "    elif userInput == 'p':\n",
    "        print('User played ' + TextFormatting.BOLD + 'Paper!' + TextFormatting.END)\n",
    "    \n",
    "    elif userInput == 's':\n",
    "        print('User played ' + TextFormatting.BOLD + 'Scissors!' + TextFormatting.END)\n",
    "    \n",
    "    else:\n",
    "        showGameStats()\n",
    "        userInput = input('Your turn: ')\n",
    "        continue\n",
    "        \n",
    "    if state == 'Rock':\n",
    "        state = 'Paper'\n",
    "    elif state == 'Paper':\n",
    "        state = 'Scissors'\n",
    "    else:\n",
    "        state = 'Rock'\n",
    "    \n",
    "    print('Opponent played ' + TextFormatting.BOLD + state + '!' + TextFormatting.END)\n",
    "    \n",
    "    \n",
    "    if ((userInput == 'p' and state == 'Rock')\n",
    "        or (userInput == 's' and state == 'Paper')\n",
    "        or (userInput == 'r' and state == 'Scissors')):\n",
    "        print('User won!')\n",
    "        payoff.append(payoff[len(payoff) - 1] + 1)\n",
    "    \n",
    "    elif ((userInput == 's' and state == 'Rock')\n",
    "        or (userInput == 'r' and state == 'Paper')\n",
    "        or (userInput == 'p' and state == 'Scissors')):\n",
    "        print('Opponent won!')\n",
    "        payoff.append(payoff[len(payoff) - 1] - 1)\n",
    "    \n",
    "    else:\n",
    "        print('It\\'s a tie!')\n",
    "    \n",
    "    \n",
    "    if userInput == 'r' and previousInput == 'r':\n",
    "        p_trans[0][0] += 1.\n",
    "        p_trans_sums[0] += 1.\n",
    "    elif userInput == 'r' and previousInput == 'p':\n",
    "        p_trans[1][0] += 1.\n",
    "        p_trans_sums[1] += 1.\n",
    "    elif userInput == 'r' and previousInput == 's':\n",
    "        p_trans[2][0] += 1.\n",
    "        p_trans_sums[2] += 1.\n",
    "    elif userInput == 'p' and previousInput == 'r':\n",
    "        p_trans[0][1] += 1.\n",
    "        p_trans_sums[0] += 1.\n",
    "    elif userInput == 'p' and previousInput == 'p':\n",
    "        p_trans[1][1] += 1.\n",
    "        p_trans_sums[1] += 1.\n",
    "    elif userInput == 'p' and previousInput == 's':\n",
    "        p_trans[2][1] += 1.\n",
    "        p_trans_sums[2] += 1.\n",
    "    elif userInput == 's' and previousInput == 'r':\n",
    "        p_trans[0][2] += 1.\n",
    "        p_trans_sums[0] += 1.\n",
    "    elif userInput == 's' and previousInput == 'p':\n",
    "        p_trans[1][2] += 1.\n",
    "        p_trans_sums[1] += 1.\n",
    "    elif userInput == 's' and previousInput == 's':\n",
    "        p_trans[2][2] += 1.\n",
    "        p_trans_sums[2] += 1.\n",
    "    \n",
    "    \n",
    "    if userInput == 'r':\n",
    "        state = np.random.choice(states, replace = True, p = getProbabilityMatrix(p_trans, p_trans_sums)[0])\n",
    "    elif userInput == 'p':\n",
    "        state = np.random.choice(states, replace = True, p = getProbabilityMatrix(p_trans, p_trans_sums)[1])\n",
    "    else:\n",
    "        state = np.random.choice(states, replace = True, p = getProbabilityMatrix(p_trans, p_trans_sums)[2])\n",
    "    \n",
    "    \n",
    "    previousInput = userInput\n",
    "    userInput = input('Your turn: ')"
   ]
  },
  {
   "cell_type": "raw",
   "metadata": {},
   "source": [
    "showGameStats()"
   ]
  },
  {
   "cell_type": "code",
   "execution_count": 71,
   "metadata": {},
   "outputs": [
    {
     "name": "stdout",
     "output_type": "stream",
     "text": [
      "Thank You for playing \u001b[1m\"Rock - Paper - Scissors\"\u001b[0m!\n"
     ]
    }
   ],
   "source": [
    "print('Thank You for playing ' + TextFormatting.BOLD + '\"Rock - Paper - Scissors\"' + TextFormatting.END + '!')"
   ]
  },
  {
   "cell_type": "code",
   "execution_count": null,
   "metadata": {},
   "outputs": [],
   "source": []
  }
 ],
 "metadata": {
  "kernelspec": {
   "display_name": "Python 3",
   "language": "python",
   "name": "python3"
  },
  "language_info": {
   "codemirror_mode": {
    "name": "ipython",
    "version": 3
   },
   "file_extension": ".py",
   "mimetype": "text/x-python",
   "name": "python",
   "nbconvert_exporter": "python",
   "pygments_lexer": "ipython3",
   "version": "3.7.4"
  }
 },
 "nbformat": 4,
 "nbformat_minor": 2
}
